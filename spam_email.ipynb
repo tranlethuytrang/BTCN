{
 "cells": [
  {
   "cell_type": "code",
   "execution_count": 1,
   "id": "10055faa",
   "metadata": {
    "execution": {
     "iopub.execute_input": "2022-04-08T06:37:54.967661Z",
     "iopub.status.busy": "2022-04-08T06:37:54.966637Z",
     "iopub.status.idle": "2022-04-08T06:37:55.148377Z",
     "shell.execute_reply": "2022-04-08T06:37:55.148875Z",
     "shell.execute_reply.started": "2022-04-08T06:36:46.462324Z"
    },
    "papermill": {
     "duration": 0.207996,
     "end_time": "2022-04-08T06:37:55.149173",
     "exception": false,
     "start_time": "2022-04-08T06:37:54.941177",
     "status": "completed"
    },
    "tags": []
   },
   "outputs": [
    {
     "data": {
      "text/html": [
       "<div>\n",
       "<style scoped>\n",
       "    .dataframe tbody tr th:only-of-type {\n",
       "        vertical-align: middle;\n",
       "    }\n",
       "\n",
       "    .dataframe tbody tr th {\n",
       "        vertical-align: top;\n",
       "    }\n",
       "\n",
       "    .dataframe thead th {\n",
       "        text-align: right;\n",
       "    }\n",
       "</style>\n",
       "<table border=\"1\" class=\"dataframe\">\n",
       "  <thead>\n",
       "    <tr style=\"text-align: right;\">\n",
       "      <th></th>\n",
       "      <th>make</th>\n",
       "      <th>address</th>\n",
       "      <th>all</th>\n",
       "      <th>3d</th>\n",
       "      <th>our</th>\n",
       "      <th>over</th>\n",
       "      <th>remove</th>\n",
       "      <th>internet</th>\n",
       "      <th>order</th>\n",
       "      <th>mail</th>\n",
       "      <th>...</th>\n",
       "      <th>conference</th>\n",
       "      <th>semicol</th>\n",
       "      <th>paren</th>\n",
       "      <th>bracket</th>\n",
       "      <th>bang</th>\n",
       "      <th>dollar</th>\n",
       "      <th>pound</th>\n",
       "      <th>cap_avg</th>\n",
       "      <th>cap_long</th>\n",
       "      <th>cap_total</th>\n",
       "    </tr>\n",
       "  </thead>\n",
       "  <tbody>\n",
       "    <tr>\n",
       "      <th>count</th>\n",
       "      <td>4601.000000</td>\n",
       "      <td>4601.000000</td>\n",
       "      <td>4601.000000</td>\n",
       "      <td>4601.000000</td>\n",
       "      <td>4601.000000</td>\n",
       "      <td>4601.000000</td>\n",
       "      <td>4601.000000</td>\n",
       "      <td>4601.000000</td>\n",
       "      <td>4601.000000</td>\n",
       "      <td>4601.000000</td>\n",
       "      <td>...</td>\n",
       "      <td>4601.000000</td>\n",
       "      <td>4601.000000</td>\n",
       "      <td>4601.000000</td>\n",
       "      <td>4601.000000</td>\n",
       "      <td>4601.000000</td>\n",
       "      <td>4601.000000</td>\n",
       "      <td>4601.000000</td>\n",
       "      <td>4601.000000</td>\n",
       "      <td>4601.000000</td>\n",
       "      <td>4601.000000</td>\n",
       "    </tr>\n",
       "    <tr>\n",
       "      <th>mean</th>\n",
       "      <td>0.104553</td>\n",
       "      <td>0.213015</td>\n",
       "      <td>0.280656</td>\n",
       "      <td>0.065425</td>\n",
       "      <td>0.312223</td>\n",
       "      <td>0.095901</td>\n",
       "      <td>0.114208</td>\n",
       "      <td>0.105295</td>\n",
       "      <td>0.090067</td>\n",
       "      <td>0.239413</td>\n",
       "      <td>...</td>\n",
       "      <td>0.031869</td>\n",
       "      <td>0.038575</td>\n",
       "      <td>0.139030</td>\n",
       "      <td>0.016976</td>\n",
       "      <td>0.269071</td>\n",
       "      <td>0.075811</td>\n",
       "      <td>0.044238</td>\n",
       "      <td>5.191515</td>\n",
       "      <td>52.172789</td>\n",
       "      <td>283.289285</td>\n",
       "    </tr>\n",
       "    <tr>\n",
       "      <th>std</th>\n",
       "      <td>0.305358</td>\n",
       "      <td>1.290575</td>\n",
       "      <td>0.504143</td>\n",
       "      <td>1.395151</td>\n",
       "      <td>0.672513</td>\n",
       "      <td>0.273824</td>\n",
       "      <td>0.391441</td>\n",
       "      <td>0.401071</td>\n",
       "      <td>0.278616</td>\n",
       "      <td>0.644755</td>\n",
       "      <td>...</td>\n",
       "      <td>0.285735</td>\n",
       "      <td>0.243471</td>\n",
       "      <td>0.270355</td>\n",
       "      <td>0.109394</td>\n",
       "      <td>0.815672</td>\n",
       "      <td>0.245882</td>\n",
       "      <td>0.429342</td>\n",
       "      <td>31.729449</td>\n",
       "      <td>194.891310</td>\n",
       "      <td>606.347851</td>\n",
       "    </tr>\n",
       "    <tr>\n",
       "      <th>min</th>\n",
       "      <td>0.000000</td>\n",
       "      <td>0.000000</td>\n",
       "      <td>0.000000</td>\n",
       "      <td>0.000000</td>\n",
       "      <td>0.000000</td>\n",
       "      <td>0.000000</td>\n",
       "      <td>0.000000</td>\n",
       "      <td>0.000000</td>\n",
       "      <td>0.000000</td>\n",
       "      <td>0.000000</td>\n",
       "      <td>...</td>\n",
       "      <td>0.000000</td>\n",
       "      <td>0.000000</td>\n",
       "      <td>0.000000</td>\n",
       "      <td>0.000000</td>\n",
       "      <td>0.000000</td>\n",
       "      <td>0.000000</td>\n",
       "      <td>0.000000</td>\n",
       "      <td>1.000000</td>\n",
       "      <td>1.000000</td>\n",
       "      <td>1.000000</td>\n",
       "    </tr>\n",
       "    <tr>\n",
       "      <th>25%</th>\n",
       "      <td>0.000000</td>\n",
       "      <td>0.000000</td>\n",
       "      <td>0.000000</td>\n",
       "      <td>0.000000</td>\n",
       "      <td>0.000000</td>\n",
       "      <td>0.000000</td>\n",
       "      <td>0.000000</td>\n",
       "      <td>0.000000</td>\n",
       "      <td>0.000000</td>\n",
       "      <td>0.000000</td>\n",
       "      <td>...</td>\n",
       "      <td>0.000000</td>\n",
       "      <td>0.000000</td>\n",
       "      <td>0.000000</td>\n",
       "      <td>0.000000</td>\n",
       "      <td>0.000000</td>\n",
       "      <td>0.000000</td>\n",
       "      <td>0.000000</td>\n",
       "      <td>1.588000</td>\n",
       "      <td>6.000000</td>\n",
       "      <td>35.000000</td>\n",
       "    </tr>\n",
       "    <tr>\n",
       "      <th>50%</th>\n",
       "      <td>0.000000</td>\n",
       "      <td>0.000000</td>\n",
       "      <td>0.000000</td>\n",
       "      <td>0.000000</td>\n",
       "      <td>0.000000</td>\n",
       "      <td>0.000000</td>\n",
       "      <td>0.000000</td>\n",
       "      <td>0.000000</td>\n",
       "      <td>0.000000</td>\n",
       "      <td>0.000000</td>\n",
       "      <td>...</td>\n",
       "      <td>0.000000</td>\n",
       "      <td>0.000000</td>\n",
       "      <td>0.065000</td>\n",
       "      <td>0.000000</td>\n",
       "      <td>0.000000</td>\n",
       "      <td>0.000000</td>\n",
       "      <td>0.000000</td>\n",
       "      <td>2.276000</td>\n",
       "      <td>15.000000</td>\n",
       "      <td>95.000000</td>\n",
       "    </tr>\n",
       "    <tr>\n",
       "      <th>75%</th>\n",
       "      <td>0.000000</td>\n",
       "      <td>0.000000</td>\n",
       "      <td>0.420000</td>\n",
       "      <td>0.000000</td>\n",
       "      <td>0.380000</td>\n",
       "      <td>0.000000</td>\n",
       "      <td>0.000000</td>\n",
       "      <td>0.000000</td>\n",
       "      <td>0.000000</td>\n",
       "      <td>0.160000</td>\n",
       "      <td>...</td>\n",
       "      <td>0.000000</td>\n",
       "      <td>0.000000</td>\n",
       "      <td>0.188000</td>\n",
       "      <td>0.000000</td>\n",
       "      <td>0.315000</td>\n",
       "      <td>0.052000</td>\n",
       "      <td>0.000000</td>\n",
       "      <td>3.706000</td>\n",
       "      <td>43.000000</td>\n",
       "      <td>266.000000</td>\n",
       "    </tr>\n",
       "    <tr>\n",
       "      <th>max</th>\n",
       "      <td>4.540000</td>\n",
       "      <td>14.280000</td>\n",
       "      <td>5.100000</td>\n",
       "      <td>42.810000</td>\n",
       "      <td>10.000000</td>\n",
       "      <td>5.880000</td>\n",
       "      <td>7.270000</td>\n",
       "      <td>11.110000</td>\n",
       "      <td>5.260000</td>\n",
       "      <td>18.180000</td>\n",
       "      <td>...</td>\n",
       "      <td>10.000000</td>\n",
       "      <td>4.385000</td>\n",
       "      <td>9.752000</td>\n",
       "      <td>4.081000</td>\n",
       "      <td>32.478000</td>\n",
       "      <td>6.003000</td>\n",
       "      <td>19.829000</td>\n",
       "      <td>1102.500000</td>\n",
       "      <td>9989.000000</td>\n",
       "      <td>15841.000000</td>\n",
       "    </tr>\n",
       "  </tbody>\n",
       "</table>\n",
       "<p>8 rows × 57 columns</p>\n",
       "</div>"
      ],
      "text/plain": [
       "              make      address          all           3d          our  \\\n",
       "count  4601.000000  4601.000000  4601.000000  4601.000000  4601.000000   \n",
       "mean      0.104553     0.213015     0.280656     0.065425     0.312223   \n",
       "std       0.305358     1.290575     0.504143     1.395151     0.672513   \n",
       "min       0.000000     0.000000     0.000000     0.000000     0.000000   \n",
       "25%       0.000000     0.000000     0.000000     0.000000     0.000000   \n",
       "50%       0.000000     0.000000     0.000000     0.000000     0.000000   \n",
       "75%       0.000000     0.000000     0.420000     0.000000     0.380000   \n",
       "max       4.540000    14.280000     5.100000    42.810000    10.000000   \n",
       "\n",
       "              over       remove     internet        order         mail  ...  \\\n",
       "count  4601.000000  4601.000000  4601.000000  4601.000000  4601.000000  ...   \n",
       "mean      0.095901     0.114208     0.105295     0.090067     0.239413  ...   \n",
       "std       0.273824     0.391441     0.401071     0.278616     0.644755  ...   \n",
       "min       0.000000     0.000000     0.000000     0.000000     0.000000  ...   \n",
       "25%       0.000000     0.000000     0.000000     0.000000     0.000000  ...   \n",
       "50%       0.000000     0.000000     0.000000     0.000000     0.000000  ...   \n",
       "75%       0.000000     0.000000     0.000000     0.000000     0.160000  ...   \n",
       "max       5.880000     7.270000    11.110000     5.260000    18.180000  ...   \n",
       "\n",
       "        conference      semicol        paren      bracket         bang  \\\n",
       "count  4601.000000  4601.000000  4601.000000  4601.000000  4601.000000   \n",
       "mean      0.031869     0.038575     0.139030     0.016976     0.269071   \n",
       "std       0.285735     0.243471     0.270355     0.109394     0.815672   \n",
       "min       0.000000     0.000000     0.000000     0.000000     0.000000   \n",
       "25%       0.000000     0.000000     0.000000     0.000000     0.000000   \n",
       "50%       0.000000     0.000000     0.065000     0.000000     0.000000   \n",
       "75%       0.000000     0.000000     0.188000     0.000000     0.315000   \n",
       "max      10.000000     4.385000     9.752000     4.081000    32.478000   \n",
       "\n",
       "            dollar        pound      cap_avg     cap_long     cap_total  \n",
       "count  4601.000000  4601.000000  4601.000000  4601.000000   4601.000000  \n",
       "mean      0.075811     0.044238     5.191515    52.172789    283.289285  \n",
       "std       0.245882     0.429342    31.729449   194.891310    606.347851  \n",
       "min       0.000000     0.000000     1.000000     1.000000      1.000000  \n",
       "25%       0.000000     0.000000     1.588000     6.000000     35.000000  \n",
       "50%       0.000000     0.000000     2.276000    15.000000     95.000000  \n",
       "75%       0.052000     0.000000     3.706000    43.000000    266.000000  \n",
       "max       6.003000    19.829000  1102.500000  9989.000000  15841.000000  \n",
       "\n",
       "[8 rows x 57 columns]"
      ]
     },
     "execution_count": 1,
     "metadata": {},
     "output_type": "execute_result"
    }
   ],
   "source": [
    "import pandas as pd\n",
    "import numpy as np\n",
    "data = pd.read_csv('../input/spam-email-data/spam_email.txt',sep=' ')\n",
    "onlydata=data.loc[:,'make':'cap_total']\n",
    "onlydata.describe(include='all')"
   ]
  },
  {
   "cell_type": "code",
   "execution_count": 2,
   "id": "94a5d0cf",
   "metadata": {
    "execution": {
     "iopub.execute_input": "2022-04-08T06:37:55.175079Z",
     "iopub.status.busy": "2022-04-08T06:37:55.174450Z",
     "iopub.status.idle": "2022-04-08T06:37:56.251929Z",
     "shell.execute_reply": "2022-04-08T06:37:56.251269Z",
     "shell.execute_reply.started": "2022-04-08T06:36:46.641530Z"
    },
    "papermill": {
     "duration": 1.092718,
     "end_time": "2022-04-08T06:37:56.252077",
     "exception": false,
     "start_time": "2022-04-08T06:37:55.159359",
     "status": "completed"
    },
    "tags": []
   },
   "outputs": [],
   "source": [
    "from sklearn.model_selection import train_test_split\n",
    "from sklearn import preprocessing\n",
    "X=onlydata.values\n",
    "yCG=data.values[:,57]\n",
    "y=np.zeros((yCG.size))\n",
    "y[yCG=='spam']=1\n",
    "X_train, X_test, y_train, y_test = train_test_split(X, y, test_size=0.25, random_state = 0)\n",
    "std_scaler = preprocessing.StandardScaler().fit(X_train)\n",
    "X_train_scaled = std_scaler.transform(X_train)\n",
    "X_test_scaled = std_scaler.transform(X_test)"
   ]
  },
  {
   "cell_type": "code",
   "execution_count": 3,
   "id": "d73a8d6a",
   "metadata": {
    "execution": {
     "iopub.execute_input": "2022-04-08T06:37:56.280334Z",
     "iopub.status.busy": "2022-04-08T06:37:56.279702Z",
     "iopub.status.idle": "2022-04-08T06:37:56.922899Z",
     "shell.execute_reply": "2022-04-08T06:37:56.921515Z",
     "shell.execute_reply.started": "2022-04-08T06:36:46.679185Z"
    },
    "papermill": {
     "duration": 0.661183,
     "end_time": "2022-04-08T06:37:56.923104",
     "exception": false,
     "start_time": "2022-04-08T06:37:56.261921",
     "status": "completed"
    },
    "tags": []
   },
   "outputs": [
    {
     "data": {
      "text/plain": [
       "<matplotlib.legend.Legend at 0x7fe6981645d0>"
      ]
     },
     "execution_count": 3,
     "metadata": {},
     "output_type": "execute_result"
    },
    {
     "data": {
      "image/png": "[encoded data removed]",
      "text/plain": [
       "<Figure size 432x288 with 2 Axes>"
      ]
     },
     "metadata": {
      "needs_background": "light"
     },
     "output_type": "display_data"
    }
   ],
   "source": [
    "from sklearn.decomposition import PCA\n",
    "import matplotlib.pyplot as plt\n",
    "pca= PCA(n_components=2)\n",
    "fig, (plt_train, plt_test) = plt.subplots(1, 2)\n",
    "data1=pca.fit_transform(X_train_scaled)\n",
    "h1=data1[(y_train==1)]\n",
    "h2=data1[(y_train==0)]\n",
    "plt_train.set_title('Train values :'+ str(X_train_scaled.shape))\n",
    "plt_train.scatter(h1[:,0],h1[:,1],marker='*',c=\"red\")\n",
    "plt_train.scatter(h2[:,0],h2[:,1],marker='+',c=\"black\")\n",
    "plt_train.legend(['lable 1','lable 0'])\n",
    "data2=pca.fit_transform(X_test_scaled)\n",
    "g1=data2[(y_test==1)]\n",
    "g2=data2[(y_test==0)]\n",
    "plt_test.set_title('Test values :'+str(X_test_scaled.shape))\n",
    "plt_test.scatter(g1[:,0],g1[:,1],marker='+',c=\"black\")\n",
    "plt_test.scatter(g2[:,0],g2[:,1],marker='*',c=\"pink\")\n",
    "plt_test.legend(['lable 1','lable 0'])\n"
   ]
  },
  {
   "cell_type": "code",
   "execution_count": 4,
   "id": "034f57bb",
   "metadata": {
    "execution": {
     "iopub.execute_input": "2022-04-08T06:37:56.962579Z",
     "iopub.status.busy": "2022-04-08T06:37:56.960194Z",
     "iopub.status.idle": "2022-04-08T06:37:57.399316Z",
     "shell.execute_reply": "2022-04-08T06:37:57.399718Z",
     "shell.execute_reply.started": "2022-04-08T06:36:47.187127Z"
    },
    "papermill": {
     "duration": 0.462036,
     "end_time": "2022-04-08T06:37:57.399902",
     "exception": false,
     "start_time": "2022-04-08T06:37:56.937866",
     "status": "completed"
    },
    "tags": []
   },
   "outputs": [
    {
     "data": {
      "text/plain": [
       "<matplotlib.legend.Legend at 0x7fe6bb595850>"
      ]
     },
     "execution_count": 4,
     "metadata": {},
     "output_type": "execute_result"
    },
    {
     "data": {
      "image/png": "[encoded data removed]",
      "text/plain": [
       "<Figure size 432x288 with 1 Axes>"
      ]
     },
     "metadata": {
      "needs_background": "light"
     },
     "output_type": "display_data"
    }
   ],
   "source": [
    "from sklearn.decomposition import PCA\n",
    "import matplotlib.pyplot as plt\n",
    "pca= PCA(n_components=2)\n",
    "\n",
    "X_scaled = std_scaler.transform(X)\n",
    "datax=pca.fit_transform(X_scaled)\n",
    "x1=datax[(y==1)]\n",
    "x2=datax[(y==0)]\n",
    "plt.title('Train values :'+ str(X.shape))\n",
    "plt.scatter(x1[:,0],x1[:,1],marker='*',c=\"orange\")\n",
    "plt.scatter(x2[:,0],x2[:,1],marker='+',c=\"black\")\n",
    "plt.legend(['lable 1','lable 0'])"
   ]
  },
  {
   "cell_type": "code",
   "execution_count": 5,
   "id": "ea835d50",
   "metadata": {
    "execution": {
     "iopub.execute_input": "2022-04-08T06:37:57.435106Z",
     "iopub.status.busy": "2022-04-08T06:37:57.434223Z",
     "iopub.status.idle": "2022-04-08T06:37:57.436120Z",
     "shell.execute_reply": "2022-04-08T06:37:57.436508Z",
     "shell.execute_reply.started": "2022-04-08T06:36:47.586946Z"
    },
    "papermill": {
     "duration": 0.024814,
     "end_time": "2022-04-08T06:37:57.436671",
     "exception": false,
     "start_time": "2022-04-08T06:37:57.411857",
     "status": "completed"
    },
    "tags": []
   },
   "outputs": [],
   "source": [
    "class RatingModel:\n",
    "    def __init__(self, y_, y_Pr):\n",
    "      self.y_=y_\n",
    "      self.y_Pr=y_Pr\n",
    "      self.TN=np.size(y_Pr[(y_Pr==-1)&(y_==y_Pr)])\n",
    "      self.FN=np.size(y_Pr[(y_Pr==-1)&(y_!=y_Pr)])\n",
    "      self.TP=np.size(y_Pr[(y_Pr==1)&(y_==y_Pr)])\n",
    "      self.FP=np.size(y_Pr[(y_Pr==1)&(y_!=y_Pr)])\n",
    "      self.y_[self.y_==0]=-1\n",
    "      self.y_Pr[self.y_Pr==0]=-1\n",
    "      # assert self.y_.set={1, -1}\n",
    "      # assert self.y_Pr.set={1, -1}\n",
    "    def __rep__():\n",
    "        return \"\"\n",
    "    def accur_Error(self, y_, y_Pr):\n",
    "        rs=(self.TP+self.TN)/(y_.size)\n",
    "        return [rs,(1-rs)]\n",
    "    def sensitivity(self):\n",
    "        P=np.size(self.y_[self.y_==1])\n",
    "        return (self.TP)/(P)\n",
    "    def specificity(self):\n",
    "        N=np.size(self.y_[self.y_==-1])\n",
    "        return (self.TN)/(N)\n",
    "    def precision(self):\n",
    "        rs=self.TP+self.FP\n",
    "        return (self.TP)/(rs)\n",
    "    def recall(self):\n",
    "        rs=self.TP+self.FN\n",
    "        return (self.TP)/(rs)\n",
    "    def rating(self):\n",
    "        return [self.accur_Error(self.y_, self.y_Pr), self.sensitivity(), self.specificity(), self.precision(), self.recall()]\n"
   ]
  },
  {
   "cell_type": "code",
   "execution_count": 6,
   "id": "a358daff",
   "metadata": {
    "execution": {
     "iopub.execute_input": "2022-04-08T06:37:57.463803Z",
     "iopub.status.busy": "2022-04-08T06:37:57.463156Z",
     "iopub.status.idle": "2022-04-08T06:37:57.475331Z",
     "shell.execute_reply": "2022-04-08T06:37:57.474731Z",
     "shell.execute_reply.started": "2022-04-08T06:36:47.601655Z"
    },
    "papermill": {
     "duration": 0.026759,
     "end_time": "2022-04-08T06:37:57.475457",
     "exception": false,
     "start_time": "2022-04-08T06:37:57.448698",
     "status": "completed"
    },
    "tags": []
   },
   "outputs": [],
   "source": [
    "class DecisionStump:\n",
    "    def __init__(self, T=100):\n",
    "        self.T = T\n",
    "        pass\n",
    "\n",
    "    def fit(self, X: np.ndarray, y: np.ndarray, sample_weight: np.ndarray):\n",
    "        T = self.T\n",
    "        W=sample_weight\n",
    "        nrow, ncol = X.shape\n",
    "        assert nrow == y.size\n",
    "\n",
    "        bestn = 0\n",
    "        bestd = 1\n",
    "        bestp = 0\n",
    "        minerr = W.sum()\n",
    "        for i in range(ncol):\n",
    "            err, d, p = self._optimize(X[:, i], y, W, T)\n",
    "            if err < minerr:\n",
    "                minerr = err\n",
    "                bestn = i\n",
    "                bestd = d\n",
    "                bestp = p\n",
    "        \n",
    "        self.features = ncol\n",
    "        self.bestn = bestn\n",
    "        self.bestd = bestd\n",
    "        self.bestp = bestp\n",
    "\n",
    "        return self\n",
    "\n",
    "    def _optimize(self, X, y, W, T):\n",
    "        X = X.flatten()\n",
    "        min_x, max_x = X.min(), X.max()\n",
    "        len_x = max_x - min_x\n",
    "        \n",
    "        bestd = 1\n",
    "        bestp = min_x\n",
    "        minerr = W.sum()\n",
    "\n",
    "        if len_x > 0.0:\n",
    "            for p in np.arange(min_x, max_x, len_x/T):\n",
    "                for d in [-1, 1]:\n",
    "                    gy = np.ones((y.size))\n",
    "                    gy[X*d < p*d] = -1\n",
    "                    err = np.sum((gy != y)*W)\n",
    "                    if err < minerr:\n",
    "                        minerr = err\n",
    "                        bestd = d\n",
    "                        bestp = p\n",
    "\n",
    "        return minerr, bestd, bestp\n",
    "\n",
    "    def predict(self, test_set : np.ndarray):\n",
    "        nrow, ncol = test_set.shape\n",
    "\n",
    "        assert ncol == self.features\n",
    "\n",
    "        icol = test_set[:, self.bestn]\n",
    "        h = np.ones((nrow))\n",
    "        h[icol*self.bestd < self.bestp*self.bestd] = -1\n",
    "        return h\n"
   ]
  },
  {
   "cell_type": "code",
   "execution_count": 7,
   "id": "fbe5cd42",
   "metadata": {
    "execution": {
     "iopub.execute_input": "2022-04-08T06:37:57.515396Z",
     "iopub.status.busy": "2022-04-08T06:37:57.514797Z",
     "iopub.status.idle": "2022-04-08T06:37:57.516390Z",
     "shell.execute_reply": "2022-04-08T06:37:57.516861Z",
     "shell.execute_reply.started": "2022-04-08T06:36:47.619671Z"
    },
    "papermill": {
     "duration": 0.029481,
     "end_time": "2022-04-08T06:37:57.517023",
     "exception": false,
     "start_time": "2022-04-08T06:37:57.487542",
     "status": "completed"
    },
    "tags": []
   },
   "outputs": [],
   "source": [
    "class AdaBoost:\n",
    "    def __init__(self , T, hmodel = DecisionStump()):\n",
    "        self.T=T\n",
    "        self.hmodel=hmodel\n",
    "    def fit(self, X: np.ndarray, y_: np.ndarray, verbose=False):\n",
    "      n = X.shape[0]\n",
    "      T = self.T\n",
    "      y=y_\n",
    "      y[y==0]=-1\n",
    "    # init numpy arrays\n",
    "      self.D = np.zeros(shape=(T, n))\n",
    "      self.h = np.zeros(shape=T, dtype=object)\n",
    "      self.alpha = np.zeros(shape=T)\n",
    "      self.errors = np.zeros(shape=T)\n",
    "      self.ratting = np.zeros(shape=(T,2))\n",
    "\n",
    "      # initialize weights uniformly\n",
    "      self.D[0] = np.ones(shape=n) / n\n",
    "\n",
    "      for t in range(T):\n",
    "          # fit  weak learner\n",
    "          D_ = self.D[t]\n",
    "          h_ = DecisionStump(40)\n",
    "          h_ = h_.fit(X, y, D_)\n",
    "\n",
    "          # calculate error and stump weight from weak learner prediction\n",
    "          Pr_ = h_.predict(X)\n",
    "          error_ = D_[(Pr_ != y)].sum()# / n\n",
    "          alpha_ = np.log((1 - error_) / error_) / 2\n",
    "\n",
    "          # update sample weights\n",
    "          D_new = (\n",
    "              D_ * np.exp(-alpha_ * y * Pr_)\n",
    "          )\n",
    "          \n",
    "          D_new /= D_new.sum()\n",
    "\n",
    "          # If not final iteration, update sample weights for t+1\n",
    "          if t+1 < T:\n",
    "              self.D[t+1] = D_new\n",
    "\n",
    "          # save results of iteration\n",
    "          self.h[t] = h_\n",
    "          self.alpha[t] = alpha_\n",
    "          self.errors[t] = error_\n",
    "          # ae=np.array([0,0])\n",
    "          if t>0:\n",
    "            Pr_temp=self.predictmodul(X,t)\n",
    "            modelra=RatingModel(y, Pr_temp)\n",
    "            self.ratting[t,:]=modelra.accur_Error(y, Pr_temp)\n",
    "            if verbose: print('{0}-th weak: accuracy={1}, error={2}'.format (t, self.ratting[t,0], self.ratting[t,1]))\n",
    "      return self\n",
    "    def predict(self, X):\n",
    "        Pr_ = np.array([h_.predict(X) for h_ in self.h])\n",
    "        return np.sign(np.dot(self.alpha, Pr_))\n",
    "    def predictmodul(self, X, i):\n",
    "        h_temp=self.h[:i]\n",
    "        alpha_temp=self.alpha[:i]\n",
    "        Pr_ = np.array([h_.predict(X) for h_ in h_temp])\n",
    "        return np.sign(np.dot(alpha_temp, Pr_))\n"
   ]
  },
  {
   "cell_type": "code",
   "execution_count": 8,
   "id": "55a8ed85",
   "metadata": {
    "execution": {
     "iopub.execute_input": "2022-04-08T06:37:57.544054Z",
     "iopub.status.busy": "2022-04-08T06:37:57.543465Z",
     "iopub.status.idle": "2022-04-08T06:38:06.806216Z",
     "shell.execute_reply": "2022-04-08T06:38:06.805375Z",
     "shell.execute_reply.started": "2022-04-08T06:36:47.642199Z"
    },
    "papermill": {
     "duration": 9.277505,
     "end_time": "2022-04-08T06:38:06.806453",
     "exception": false,
     "start_time": "2022-04-08T06:37:57.528948",
     "status": "completed"
    },
    "tags": []
   },
   "outputs": [
    {
     "name": "stdout",
     "output_type": "stream",
     "text": [
      "1-th weak: accuracy=0.7524637681159421, error=0.24753623188405793\n",
      "2-th weak: accuracy=0.7524637681159421, error=0.24753623188405793\n",
      "3-th weak: accuracy=0.8153623188405797, error=0.18463768115942025\n",
      "4-th weak: accuracy=0.8017391304347826, error=0.19826086956521738\n",
      "5-th weak: accuracy=0.855072463768116, error=0.14492753623188404\n",
      "6-th weak: accuracy=0.832463768115942, error=0.16753623188405797\n",
      "7-th weak: accuracy=0.8782608695652174, error=0.12173913043478257\n",
      "8-th weak: accuracy=0.8571014492753624, error=0.14289855072463764\n",
      "9-th weak: accuracy=0.8802898550724638, error=0.11971014492753618\n",
      "10-th weak: accuracy=0.8640579710144928, error=0.13594202898550722\n",
      "11-th weak: accuracy=0.8808695652173913, error=0.11913043478260865\n",
      "12-th weak: accuracy=0.8730434782608696, error=0.1269565217391304\n",
      "13-th weak: accuracy=0.8863768115942029, error=0.1136231884057971\n",
      "14-th weak: accuracy=0.8828985507246376, error=0.11710144927536237\n",
      "15-th weak: accuracy=0.9020289855072464, error=0.09797101449275358\n",
      "16-th weak: accuracy=0.8927536231884058, error=0.10724637681159421\n",
      "17-th weak: accuracy=0.904927536231884, error=0.09507246376811596\n",
      "18-th weak: accuracy=0.9014492753623189, error=0.09855072463768111\n",
      "19-th weak: accuracy=0.908695652173913, error=0.09130434782608698\n",
      "20-th weak: accuracy=0.904927536231884, error=0.09507246376811596\n",
      "21-th weak: accuracy=0.9101449275362319, error=0.08985507246376812\n",
      "22-th weak: accuracy=0.9034782608695652, error=0.09652173913043482\n",
      "23-th weak: accuracy=0.9104347826086957, error=0.0895652173913043\n",
      "24-th weak: accuracy=0.9144927536231884, error=0.08550724637681162\n",
      "25-th weak: accuracy=0.9139130434782609, error=0.08608695652173914\n",
      "26-th weak: accuracy=0.9150724637681159, error=0.0849275362318841\n",
      "27-th weak: accuracy=0.9133333333333333, error=0.08666666666666667\n",
      "28-th weak: accuracy=0.9150724637681159, error=0.0849275362318841\n",
      "29-th weak: accuracy=0.9139130434782609, error=0.08608695652173914\n",
      "30-th weak: accuracy=0.9127536231884058, error=0.0872463768115942\n",
      "31-th weak: accuracy=0.9162318840579711, error=0.08376811594202893\n",
      "32-th weak: accuracy=0.9133333333333333, error=0.08666666666666667\n",
      "33-th weak: accuracy=0.9182608695652174, error=0.08173913043478265\n",
      "34-th weak: accuracy=0.9173913043478261, error=0.08260869565217388\n",
      "35-th weak: accuracy=0.9171014492753623, error=0.0828985507246377\n",
      "36-th weak: accuracy=0.9171014492753623, error=0.0828985507246377\n",
      "37-th weak: accuracy=0.9182608695652174, error=0.08173913043478265\n",
      "38-th weak: accuracy=0.9179710144927536, error=0.08202898550724635\n",
      "39-th weak: accuracy=0.9176811594202898, error=0.08231884057971017\n",
      "40-th weak: accuracy=0.9165217391304348, error=0.08347826086956522\n",
      "41-th weak: accuracy=0.9185507246376812, error=0.08144927536231883\n",
      "42-th weak: accuracy=0.9168115942028986, error=0.0831884057971014\n",
      "43-th weak: accuracy=0.9185507246376812, error=0.08144927536231883\n",
      "44-th weak: accuracy=0.9168115942028986, error=0.0831884057971014\n",
      "45-th weak: accuracy=0.9194202898550725, error=0.08057971014492749\n",
      "46-th weak: accuracy=0.9191304347826087, error=0.0808695652173913\n",
      "47-th weak: accuracy=0.92, error=0.07999999999999996\n",
      "48-th weak: accuracy=0.9202898550724637, error=0.07971014492753625\n",
      "49-th weak: accuracy=0.9205797101449276, error=0.07942028985507243\n",
      "[-1.  1. -1. ...  1. -1.  1.] [0. 0. 0. ... 1. 0. 0.]\n"
     ]
    }
   ],
   "source": [
    "model=AdaBoost(50)\n",
    "model=model.fit(X_train_scaled, y_train, True )\n",
    "Pr=model.predict( X_test_scaled)\n",
    "Pr[(Pr==0)]=-1\n",
    "print(Pr, y_test)"
   ]
  },
  {
   "cell_type": "code",
   "execution_count": 9,
   "id": "a1a3c717",
   "metadata": {
    "execution": {
     "iopub.execute_input": "2022-04-08T06:38:06.891462Z",
     "iopub.status.busy": "2022-04-08T06:38:06.890554Z",
     "iopub.status.idle": "2022-04-08T06:38:07.284514Z",
     "shell.execute_reply": "2022-04-08T06:38:07.285051Z",
     "shell.execute_reply.started": "2022-04-08T06:36:58.660259Z"
    },
    "papermill": {
     "duration": 0.440494,
     "end_time": "2022-04-08T06:38:07.285219",
     "exception": false,
     "start_time": "2022-04-08T06:38:06.844725",
     "status": "completed"
    },
    "tags": []
   },
   "outputs": [
    {
     "name": "stderr",
     "output_type": "stream",
     "text": [
      "/opt/conda/lib/python3.7/site-packages/ipykernel_launcher.py:12: UserWarning: color is redundantly defined by the 'color' keyword argument and the fmt string \"y-\" (-> color='y'). The keyword argument will take precedence.\n",
      "  if sys.path[0] == '':\n",
      "/opt/conda/lib/python3.7/site-packages/ipykernel_launcher.py:13: UserWarning: color is redundantly defined by the 'color' keyword argument and the fmt string \"r-\" (-> color='r'). The keyword argument will take precedence.\n",
      "  del sys.path[0]\n"
     ]
    },
    {
     "data": {
      "text/plain": [
       "Text(0, 0.5, 'Loss/Accuracy')"
      ]
     },
     "execution_count": 9,
     "metadata": {},
     "output_type": "execute_result"
    },
    {
     "data": {
      "image/png": "[encoded data removed]",
      "text/plain": [
       "<Figure size 432x288 with 1 Axes>"
      ]
     },
     "metadata": {
      "needs_background": "light"
     },
     "output_type": "display_data"
    }
   ],
   "source": [
    "ra_Xtest = np.zeros(shape=(model.T,2))\n",
    "for i in range(1,model.T):\n",
    "  Pr_i=model.predictmodul(X_test_scaled,i)\n",
    "  modelra=RatingModel(y_test, Pr_i)\n",
    "  ra_Xtest[i,:]=modelra.accur_Error(y_test, Pr_i)\n",
    "ra_Xtrain = np.zeros(shape=(model.T,2))\n",
    "for i in range(1,model.T):\n",
    "  Pr_i=model.predictmodul(X_train_scaled,i)\n",
    "  modelra=RatingModel(y_train, Pr_i)\n",
    "  ra_Xtrain[i,:]=modelra.accur_Error(y_train, Pr_i)\n",
    "iter=range(model.T)\n",
    "plt.plot(iter,ra_Xtest[:,0],'y-', label='Test accuracy',c=\"black\")\n",
    "plt.plot(iter,ra_Xtest[:,1],'r-', label='Test error',c=\"blue\")\n",
    "plt.plot(iter,ra_Xtrain[:,0],'y--', label='Train accuracy')\n",
    "plt.plot(iter,ra_Xtrain[:,1],'r--', label='Train error')\n",
    "plt.legend(loc='center right')\n",
    "plt.xlabel('Iter')\n",
    "plt.ylabel('Loss/Accuracy')"
   ]
  },
  {
   "cell_type": "code",
   "execution_count": 10,
   "id": "26887d32",
   "metadata": {
    "execution": {
     "iopub.execute_input": "2022-04-08T06:38:07.330268Z",
     "iopub.status.busy": "2022-04-08T06:38:07.329343Z",
     "iopub.status.idle": "2022-04-08T06:38:07.634789Z",
     "shell.execute_reply": "2022-04-08T06:38:07.635283Z",
     "shell.execute_reply.started": "2022-04-08T06:36:59.104455Z"
    },
    "papermill": {
     "duration": 0.329641,
     "end_time": "2022-04-08T06:38:07.635445",
     "exception": false,
     "start_time": "2022-04-08T06:38:07.305804",
     "status": "completed"
    },
    "tags": []
   },
   "outputs": [
    {
     "name": "stdout",
     "output_type": "stream",
     "text": [
      "87 (1151,)\n"
     ]
    },
    {
     "data": {
      "image/png": "[encoded data removed]",
      "text/plain": [
       "<Figure size 432x288 with 1 Axes>"
      ]
     },
     "metadata": {
      "needs_background": "light"
     },
     "output_type": "display_data"
    }
   ],
   "source": [
    "sumerror=0;\n",
    "y_new=y_test\n",
    "y_new[y_new==0]=-1\n",
    "for i in range(y_new.shape[0]):\n",
    "  if y_new[i]!=Pr[i]: \n",
    "    sumerror+=1\n",
    "print(sumerror, y_new.shape)\n",
    "GT1=data2[(Pr==1)]\n",
    "GT0=data2[(Pr==-1)]\n",
    "GF1=data2[(y_new!=Pr)&(Pr==1)]\n",
    "GF0=data2[(y_new!=Pr)&(Pr==-1)]\n",
    "plt.title('Test values errors :'+str(sumerror)+'/ '+str(X_test_scaled.shape[0]))\n",
    "# plt.scatter(gF[:,0],gF[:,1], c=\"red\")\n",
    "plt.scatter(GT1[:,0],GT1[:,1], marker='*')\n",
    "plt.scatter(GT0[:,0],GT0[:,1], marker='x')\n",
    "plt.scatter(GF1[:,0],GF1[:,1], marker='s')\n",
    "plt.scatter(GF0[:,0],GF0[:,1], marker='+')\n",
    "plt.legend(['TP ham','TN spam','FP ham','FN spam'])\n",
    "plt.savefig('lettersCG_XtextError.png')"
   ]
  }
 ],
 "metadata": {
  "kernelspec": {
   "display_name": "Python 3",
   "language": "python",
   "name": "python3"
  },
  "language_info": {
   "codemirror_mode": {
    "name": "ipython",
    "version": 3
   },
   "file_extension": ".py",
   "mimetype": "text/x-python",
   "name": "python",
   "nbconvert_exporter": "python",
   "pygments_lexer": "ipython3",
   "version": "3.7.12"
  },
  "papermill": {
   "default_parameters": {},
   "duration": 21.712838,
   "end_time": "2022-04-08T06:38:08.366963",
   "environment_variables": {},
   "exception": null,
   "input_path": "__notebook__.ipynb",
   "output_path": "__notebook__.ipynb",
   "parameters": {},
   "start_time": "2022-04-08T06:37:46.654125",
   "version": "2.3.3"
  }
 },
 "nbformat": 4,
 "nbformat_minor": 5
}
